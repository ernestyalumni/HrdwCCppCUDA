{
 "cells": [
  {
   "cell_type": "markdown",
   "id": "266e1718",
   "metadata": {},
   "source": [
    "# Setup\n",
    "## Setup that is specific only to Jupyter notebooks"
   ]
  },
  {
   "cell_type": "code",
   "execution_count": 1,
   "id": "2dd777d3",
   "metadata": {},
   "outputs": [
    {
     "name": "stdout",
     "output_type": "stream",
     "text": [
      "Adding this directory to sys.path:  /home/topolo/PropD/HrdwCCppCUDA/Voltron\n"
     ]
    }
   ],
   "source": [
    "from pathlib import Path\n",
    "\n",
    "import sys\n",
    "\n",
    "notebook_directory_parent = Path.cwd().resolve().parent\n",
    "\n",
    "if str(notebook_directory_parent) not in sys.path:\n",
    "    print(\"Adding this directory to sys.path: \", notebook_directory_parent)\n",
    "    sys.path.append(str(notebook_directory_parent))"
   ]
  },
  {
   "cell_type": "code",
   "execution_count": 2,
   "id": "92b34f62",
   "metadata": {},
   "outputs": [],
   "source": [
    "import sympy\n",
    "from Voltron.Algorithms.naive_interpolation import naive_interpolation"
   ]
  },
  {
   "cell_type": "code",
   "execution_count": 3,
   "id": "28dd23d6",
   "metadata": {},
   "outputs": [],
   "source": [
    "n = sympy.Symbol('n')"
   ]
  },
  {
   "cell_type": "markdown",
   "id": "6ed32c3b",
   "metadata": {},
   "source": [
    "1.2-2."
   ]
  },
  {
   "cell_type": "code",
   "execution_count": 5,
   "id": "9d23ded7",
   "metadata": {},
   "outputs": [
    {
     "name": "stdout",
     "output_type": "stream",
     "text": [
      "43\n"
     ]
    }
   ],
   "source": [
    "def lhs(x):\n",
    "    return n.subs(n, x)\n",
    "def rhs(x):\n",
    "    return 8 * sympy.log(n, 2).subs(n, x)\n",
    "result = naive_interpolation(lhs, rhs, 2)\n",
    "print(result)"
   ]
  },
  {
   "cell_type": "markdown",
   "id": "bcf452aa",
   "metadata": {},
   "source": [
    "1.2-3"
   ]
  },
  {
   "cell_type": "code",
   "execution_count": 16,
   "id": "a4d54694",
   "metadata": {},
   "outputs": [
    {
     "name": "stdout",
     "output_type": "stream",
     "text": [
      "14\n",
      "14\n",
      "2\n",
      "100\n"
     ]
    }
   ],
   "source": [
    "def lhs(x):\n",
    "    return n.subs(n, x)\n",
    "def rhs(x):\n",
    "    return sympy.log(100, 2) + 2 * sympy.log(n, 2).subs(n, x)\n",
    "def lhs1(x):\n",
    "    return sympy.Pow(2, n).subs(n, x)\n",
    "def rhs1(x):\n",
    "    return (100 * n * n).subs(n, x)\n",
    "result = naive_interpolation(lhs, rhs, 4)\n",
    "print(result)\n",
    "result = naive_interpolation(lhs1, rhs1, 5)\n",
    "print(result)"
   ]
  },
  {
   "cell_type": "code",
   "execution_count": null,
   "id": "bcc06e87",
   "metadata": {},
   "outputs": [],
   "source": []
  }
 ],
 "metadata": {
  "kernelspec": {
   "display_name": "Python 3 (ipykernel)",
   "language": "python",
   "name": "python3"
  },
  "language_info": {
   "codemirror_mode": {
    "name": "ipython",
    "version": 3
   },
   "file_extension": ".py",
   "mimetype": "text/x-python",
   "name": "python",
   "nbconvert_exporter": "python",
   "pygments_lexer": "ipython3",
   "version": "3.10.2"
  }
 },
 "nbformat": 4,
 "nbformat_minor": 5
}
